{
  "cells": [
    {
      "cell_type": "code",
      "execution_count": null,
      "metadata": {
        "id": "XgogJnc1UVLd"
      },
      "outputs": [],
      "source": [
        "import pandas as pd\n",
        "import numpy as np\n",
        "import matplotlib.pyplot as plt\n",
        "plt.style.use(\"seaborn\")\n",
        "pd.set_option('display.float_format', lambda x: '%.5f' % x)"
      ]
    },
    {
      "cell_type": "code",
      "source": [],
      "metadata": {
        "id": "-xVNvaxID071"
      },
      "execution_count": null,
      "outputs": []
    },
    {
      "cell_type": "code",
      "source": [
        "!pip install yfinance\n",
        "import yfinance as yf"
      ],
      "metadata": {
        "colab": {
          "base_uri": "https://localhost:8080/",
          "height": 991
        },
        "id": "gbDtVSPKPHfd",
        "outputId": "e822e85d-21cc-4391-8749-7d340972e519"
      },
      "execution_count": null,
      "outputs": [
        {
          "output_type": "stream",
          "name": "stdout",
          "text": [
            "Looking in indexes: https://pypi.org/simple, https://us-python.pkg.dev/colab-wheels/public/simple/\n",
            "Collecting yfinance\n",
            "  Downloading yfinance-0.2.12-py2.py3-none-any.whl (59 kB)\n",
            "\u001b[?25l     \u001b[90m━━━━━━━━━━━━━━━━━━━━━━━━━━━━━━━━━━━━━━━━\u001b[0m \u001b[32m0.0/59.2 KB\u001b[0m \u001b[31m?\u001b[0m eta \u001b[36m-:--:--\u001b[0m\r\u001b[2K     \u001b[90m━━━━━━━━━━━━━━━━━━━━━━━━━━━━━━━━━━━━━━━━\u001b[0m \u001b[32m59.2/59.2 KB\u001b[0m \u001b[31m7.2 MB/s\u001b[0m eta \u001b[36m0:00:00\u001b[0m\n",
            "\u001b[?25hRequirement already satisfied: numpy>=1.16.5 in /usr/local/lib/python3.8/dist-packages (from yfinance) (1.22.4)\n",
            "Collecting beautifulsoup4>=4.11.1\n",
            "  Downloading beautifulsoup4-4.11.2-py3-none-any.whl (129 kB)\n",
            "\u001b[2K     \u001b[90m━━━━━━━━━━━━━━━━━━━━━━━━━━━━━━━━━━━━━━\u001b[0m \u001b[32m129.4/129.4 KB\u001b[0m \u001b[31m13.5 MB/s\u001b[0m eta \u001b[36m0:00:00\u001b[0m\n",
            "\u001b[?25hCollecting requests>=2.26\n",
            "  Downloading requests-2.28.2-py3-none-any.whl (62 kB)\n",
            "\u001b[2K     \u001b[90m━━━━━━━━━━━━━━━━━━━━━━━━━━━━━━━━━━━━━━━━\u001b[0m \u001b[32m62.8/62.8 KB\u001b[0m \u001b[31m5.7 MB/s\u001b[0m eta \u001b[36m0:00:00\u001b[0m\n",
            "\u001b[?25hCollecting html5lib>=1.1\n",
            "  Downloading html5lib-1.1-py2.py3-none-any.whl (112 kB)\n",
            "\u001b[2K     \u001b[90m━━━━━━━━━━━━━━━━━━━━━━━━━━━━━━━━━━━━━━\u001b[0m \u001b[32m112.2/112.2 KB\u001b[0m \u001b[31m12.3 MB/s\u001b[0m eta \u001b[36m0:00:00\u001b[0m\n",
            "\u001b[?25hRequirement already satisfied: pytz>=2022.5 in /usr/local/lib/python3.8/dist-packages (from yfinance) (2022.7.1)\n",
            "Collecting frozendict>=2.3.4\n",
            "  Downloading frozendict-2.3.5-cp38-cp38-manylinux_2_17_x86_64.manylinux2014_x86_64.whl (111 kB)\n",
            "\u001b[2K     \u001b[90m━━━━━━━━━━━━━━━━━━━━━━━━━━━━━━━━━━━━━━\u001b[0m \u001b[32m111.2/111.2 KB\u001b[0m \u001b[31m12.3 MB/s\u001b[0m eta \u001b[36m0:00:00\u001b[0m\n",
            "\u001b[?25hCollecting cryptography>=3.3.2\n",
            "  Downloading cryptography-39.0.1-cp36-abi3-manylinux_2_28_x86_64.whl (4.2 MB)\n",
            "\u001b[2K     \u001b[90m━━━━━━━━━━━━━━━━━━━━━━━━━━━━━━━━━━━━━━━━\u001b[0m \u001b[32m4.2/4.2 MB\u001b[0m \u001b[31m65.8 MB/s\u001b[0m eta \u001b[36m0:00:00\u001b[0m\n",
            "\u001b[?25hRequirement already satisfied: appdirs>=1.4.4 in /usr/local/lib/python3.8/dist-packages (from yfinance) (1.4.4)\n",
            "Requirement already satisfied: pandas>=1.3.0 in /usr/local/lib/python3.8/dist-packages (from yfinance) (1.3.5)\n",
            "Requirement already satisfied: multitasking>=0.0.7 in /usr/local/lib/python3.8/dist-packages (from yfinance) (0.0.11)\n",
            "Requirement already satisfied: lxml>=4.9.1 in /usr/local/lib/python3.8/dist-packages (from yfinance) (4.9.2)\n",
            "Collecting soupsieve>1.2\n",
            "  Downloading soupsieve-2.4-py3-none-any.whl (37 kB)\n",
            "Requirement already satisfied: cffi>=1.12 in /usr/local/lib/python3.8/dist-packages (from cryptography>=3.3.2->yfinance) (1.15.1)\n",
            "Requirement already satisfied: webencodings in /usr/local/lib/python3.8/dist-packages (from html5lib>=1.1->yfinance) (0.5.1)\n",
            "Requirement already satisfied: six>=1.9 in /usr/local/lib/python3.8/dist-packages (from html5lib>=1.1->yfinance) (1.15.0)\n",
            "Requirement already satisfied: python-dateutil>=2.7.3 in /usr/local/lib/python3.8/dist-packages (from pandas>=1.3.0->yfinance) (2.8.2)\n",
            "Requirement already satisfied: certifi>=2017.4.17 in /usr/local/lib/python3.8/dist-packages (from requests>=2.26->yfinance) (2022.12.7)\n",
            "Requirement already satisfied: idna<4,>=2.5 in /usr/local/lib/python3.8/dist-packages (from requests>=2.26->yfinance) (2.10)\n",
            "Requirement already satisfied: charset-normalizer<4,>=2 in /usr/local/lib/python3.8/dist-packages (from requests>=2.26->yfinance) (3.0.1)\n",
            "Requirement already satisfied: urllib3<1.27,>=1.21.1 in /usr/local/lib/python3.8/dist-packages (from requests>=2.26->yfinance) (1.24.3)\n",
            "Requirement already satisfied: pycparser in /usr/local/lib/python3.8/dist-packages (from cffi>=1.12->cryptography>=3.3.2->yfinance) (2.21)\n",
            "Installing collected packages: soupsieve, requests, html5lib, frozendict, cryptography, beautifulsoup4, yfinance\n",
            "  Attempting uninstall: requests\n",
            "    Found existing installation: requests 2.25.1\n",
            "    Uninstalling requests-2.25.1:\n",
            "      Successfully uninstalled requests-2.25.1\n",
            "  Attempting uninstall: html5lib\n",
            "    Found existing installation: html5lib 1.0.1\n",
            "    Uninstalling html5lib-1.0.1:\n",
            "      Successfully uninstalled html5lib-1.0.1\n",
            "  Attempting uninstall: beautifulsoup4\n",
            "    Found existing installation: beautifulsoup4 4.6.3\n",
            "    Uninstalling beautifulsoup4-4.6.3:\n",
            "      Successfully uninstalled beautifulsoup4-4.6.3\n",
            "Successfully installed beautifulsoup4-4.11.2 cryptography-39.0.1 frozendict-2.3.5 html5lib-1.1 requests-2.28.2 soupsieve-2.4 yfinance-0.2.12\n"
          ]
        },
        {
          "output_type": "display_data",
          "data": {
            "application/vnd.colab-display-data+json": {
              "pip_warning": {
                "packages": [
                  "requests"
                ]
              }
            }
          },
          "metadata": {}
        }
      ]
    },
    {
      "cell_type": "code",
      "source": [
        "import yfinance as yf\n",
        "import pandas as pd\n",
        "\n",
        "# set the ticker symbol and start/end dates\n",
        "ticker = \"EURUSD=X\"\n",
        "start_date = \"2023-01-20\"\n",
        "end_date = \"2023-02-25\"\n",
        "\n",
        "# get the currency data with 5 minute frequency\n",
        "data = yf.download(ticker, start=start_date, end=end_date, interval=\"5m\")\n",
        "\n",
        "# remove non-trading days\n",
        "data = data[data.index.dayofweek < 6]\n",
        "\n",
        "# print the data\n",
        "print(data)"
      ],
      "metadata": {
        "colab": {
          "base_uri": "https://localhost:8080/"
        },
        "id": "ZVtfJe-7RKLY",
        "outputId": "ff1287ea-cc16-4f9a-a3c9-9d81c49127d9"
      },
      "execution_count": null,
      "outputs": [
        {
          "output_type": "stream",
          "name": "stdout",
          "text": [
            "\r[*********************100%***********************]  1 of 1 completed\n",
            "                             Open    High     Low   Close  Adj Close  Volume\n",
            "Datetime                                                                    \n",
            "2023-01-20 00:00:00+00:00 1.08366 1.08389 1.08354 1.08354    1.08354       0\n",
            "2023-01-20 00:05:00+00:00 1.08378 1.08425 1.08378 1.08401    1.08401       0\n",
            "2023-01-20 00:10:00+00:00 1.08378 1.08448 1.08378 1.08425    1.08425       0\n",
            "2023-01-20 00:15:00+00:00 1.08413 1.08436 1.08413 1.08425    1.08425       0\n",
            "2023-01-20 00:20:00+00:00 1.08460 1.08460 1.08425 1.08425    1.08425       0\n",
            "...                           ...     ...     ...     ...        ...     ...\n",
            "2023-02-24 22:10:00+00:00 1.05519 1.05519 1.05519 1.05519    1.05519       0\n",
            "2023-02-24 22:15:00+00:00 1.05519 1.05519 1.05519 1.05519    1.05519       0\n",
            "2023-02-24 22:20:00+00:00 1.05519 1.05519 1.05519 1.05519    1.05519       0\n",
            "2023-02-24 22:25:00+00:00 1.05519 1.05519 1.05519 1.05519    1.05519       0\n",
            "2023-02-24 23:55:00+00:00 1.05474 1.05474 1.05474 1.05474    1.05474       0\n",
            "\n",
            "[7381 rows x 6 columns]\n"
          ]
        }
      ]
    },
    {
      "cell_type": "code",
      "source": [
        "df=yf.download('EURGBP=X', start='2023-02-18', end='2023-02-25',interval='1m')"
      ],
      "metadata": {
        "colab": {
          "base_uri": "https://localhost:8080/"
        },
        "id": "g8GYrLNDPw6c",
        "outputId": "475f1bbc-62ad-434c-a4cf-73d4096154ae"
      },
      "execution_count": null,
      "outputs": [
        {
          "output_type": "stream",
          "name": "stdout",
          "text": [
            "\r[*********************100%***********************]  1 of 1 completed\n"
          ]
        }
      ]
    },
    {
      "cell_type": "code",
      "source": [
        "data.to_csv('data.csv')"
      ],
      "metadata": {
        "id": "3ASxIoptQGM9"
      },
      "execution_count": null,
      "outputs": []
    },
    {
      "cell_type": "code",
      "execution_count": null,
      "metadata": {
        "id": "SZQHP6C2UVLe"
      },
      "outputs": [],
      "source": [
        "data = pd.read_csv(\"EURGBPM5.csv\",/content/usdjpy40.csv)"
      ]
    },
    {
      "cell_type": "code",
      "execution_count": null,
      "metadata": {
        "id": "28wdSeF9UVLe"
      },
      "outputs": [],
      "source": [
        "data "
      ]
    },
    {
      "cell_type": "code",
      "source": [
        "data.drop(['Open', 'High', 'Low', 'Volume', 'Adj Close'], axis=1, inplace=True)"
      ],
      "metadata": {
        "id": "Pfm0uLBhFKcE"
      },
      "execution_count": null,
      "outputs": []
    },
    {
      "cell_type": "code",
      "source": [
        "data.drop([ 'Volume'], axis=1, inplace=True)"
      ],
      "metadata": {
        "id": "ImxlFdeDP1pA"
      },
      "execution_count": null,
      "outputs": []
    },
    {
      "cell_type": "code",
      "execution_count": null,
      "metadata": {
        "colab": {
          "base_uri": "https://localhost:8080/"
        },
        "id": "tQnufvcvUVLe",
        "outputId": "2b4e5c57-ab72-417a-d70c-27a7f9060fc4"
      },
      "outputs": [
        {
          "output_type": "stream",
          "name": "stdout",
          "text": [
            "<class 'pandas.core.frame.DataFrame'>\n",
            "DatetimeIndex: 4267 entries, 2023-02-06 00:00:00+00:00 to 2023-02-24 23:55:00+00:00\n",
            "Data columns (total 1 columns):\n",
            " #   Column  Non-Null Count  Dtype  \n",
            "---  ------  --------------  -----  \n",
            " 0   Close   4267 non-null   float64\n",
            "dtypes: float64(1)\n",
            "memory usage: 66.7 KB\n"
          ]
        }
      ],
      "source": [
        "data.info()"
      ]
    },
    {
      "cell_type": "code",
      "execution_count": null,
      "metadata": {
        "colab": {
          "base_uri": "https://localhost:8080/",
          "height": 35
        },
        "id": "FNQrEYmQUVLf",
        "outputId": "da136234-7377-4013-c2fb-7a46f85814f7"
      },
      "outputs": [
        {
          "output_type": "execute_result",
          "data": {
            "text/plain": [
              "'Close'"
            ],
            "application/vnd.google.colaboratory.intrinsic+json": {
              "type": "string"
            }
          },
          "metadata": {},
          "execution_count": 39
        }
      ],
      "source": [
        "symbol = data.columns[0]\n",
        "symbol"
      ]
    },
    {
      "cell_type": "code",
      "execution_count": null,
      "metadata": {
        "colab": {
          "base_uri": "https://localhost:8080/",
          "height": 478
        },
        "id": "y5MFhSasUVLf",
        "outputId": "0aa9e75f-5796-4376-9d00-4301953b96db"
      },
      "outputs": [
        {
          "output_type": "display_data",
          "data": {
            "text/plain": [
              "<Figure size 864x576 with 1 Axes>"
            ],
            "image/png": "[encoded data removed]"
          },
          "metadata": {}
        }
      ],
      "source": [
        "data.plot(figsize = (12, 8))\n",
        "plt.show()"
      ]
    },
    {
      "cell_type": "code",
      "source": [
        "data.to_csv('data1.csv')"
      ],
      "metadata": {
        "id": "cMQ2yK3yVRQT"
      },
      "execution_count": null,
      "outputs": []
    },
    {
      "cell_type": "code",
      "execution_count": null,
      "metadata": {
        "id": "WI2U5eaoUVLf"
      },
      "outputs": [],
      "source": [
        "data[\"returns\"] = np.log(data[symbol] / data[symbol].shift())"
      ]
    },
    {
      "cell_type": "code",
      "execution_count": null,
      "metadata": {
        "id": "8a8mta2QUVLg"
      },
      "outputs": [],
      "source": [
        "data"
      ]
    },
    {
      "cell_type": "code",
      "execution_count": null,
      "metadata": {
        "id": "8uDO3G4KUVLg"
      },
      "outputs": [],
      "source": [
        "data[\"returns\"] = data[\"returns\"].shift(-1)"
      ]
    },
    {
      "cell_type": "code",
      "source": [
        "data"
      ],
      "metadata": {
        "id": "N8WPWm2K2ZNb"
      },
      "execution_count": null,
      "outputs": []
    },
    {
      "cell_type": "code",
      "source": [
        "data.dropna(inplace=True)"
      ],
      "metadata": {
        "id": "i4BsJPE92de0"
      },
      "execution_count": null,
      "outputs": []
    },
    {
      "cell_type": "code",
      "execution_count": null,
      "metadata": {
        "id": "4FfftnOCUVLg"
      },
      "outputs": [],
      "source": [
        "window = 50"
      ]
    },
    {
      "cell_type": "code",
      "execution_count": null,
      "metadata": {
        "id": "X069QynmUVLg"
      },
      "outputs": [],
      "source": [
        "df = data.copy()\n",
        "df[\"dir\"] = np.where(df[\"returns\"] > 0, 1, 0)\n",
        "df[\"sma\"] = df[symbol].rolling(window).mean() - df[symbol].rolling(150).mean()\n",
        "df[\"boll\"] = (df[symbol] - df[symbol].rolling(window).mean()) / df[symbol].rolling(window).std()\n",
        "df[\"min\"] = df[symbol].rolling(window).min() / df[symbol] - 1\n",
        "df[\"max\"] = df[symbol].rolling(window).max() / df[symbol] - 1\n",
        "df[\"mom\"] = df[\"returns\"].rolling(3).mean()\n",
        "df[\"vol\"] = df[\"returns\"].rolling(window).std()\n",
        "df.dropna(inplace = True)"
      ]
    },
    {
      "cell_type": "code",
      "execution_count": null,
      "metadata": {
        "id": "UPAMwBZXUVLh"
      },
      "outputs": [],
      "source": [
        "df"
      ]
    },
    {
      "cell_type": "code",
      "execution_count": null,
      "metadata": {
        "id": "yxTHp8vXUVLh"
      },
      "outputs": [],
      "source": [
        "lags = 20"
      ]
    },
    {
      "cell_type": "code",
      "execution_count": null,
      "metadata": {
        "id": "iYfZnuJNUVLi"
      },
      "outputs": [],
      "source": [
        "cols = []\n",
        "features = [\"dir\", \"sma\", \"boll\", \"min\", \"max\", \"mom\", \"vol\"]"
      ]
    },
    {
      "cell_type": "code",
      "execution_count": null,
      "metadata": {
        "id": "ak3R5ZLeUVLi",
        "colab": {
          "base_uri": "https://localhost:8080/"
        },
        "outputId": "2a3e985c-5aff-4c46-d3d6-a230eedbc6d8"
      },
      "outputs": [
        {
          "output_type": "stream",
          "name": "stderr",
          "text": [
            "<ipython-input-58-fd2994b3b473>:4: PerformanceWarning: DataFrame is highly fragmented.  This is usually the result of calling `frame.insert` many times, which has poor performance.  Consider joining all columns at once using pd.concat(axis=1) instead.  To get a de-fragmented frame, use `newframe = frame.copy()`\n",
            "  df[col] = df[f].shift(lag)\n"
          ]
        }
      ],
      "source": [
        "for f in features:\n",
        "        for lag in range(1, lags + 1):\n",
        "            col = \"{}_lag_{}\".format(f, lag)\n",
        "            df[col] = df[f].shift(lag)\n",
        "            cols.append(col)\n",
        "df.dropna(inplace = True)"
      ]
    },
    {
      "cell_type": "code",
      "execution_count": null,
      "metadata": {
        "id": "IOjlH5yDUVLi"
      },
      "outputs": [],
      "source": [
        "df"
      ]
    },
    {
      "cell_type": "code",
      "execution_count": null,
      "metadata": {
        "colab": {
          "base_uri": "https://localhost:8080/"
        },
        "id": "NfhtWbE3UVLj",
        "outputId": "fb2a6254-34b4-4bd7-a056-dc9cf3c9c60a"
      },
      "outputs": [
        {
          "output_type": "stream",
          "name": "stdout",
          "text": [
            "<class 'pandas.core.frame.DataFrame'>\n",
            "DatetimeIndex: 6891 entries, 2023-02-20 02:49:00+00:00 to 2023-02-24 22:28:00+00:00\n",
            "Columns: 149 entries, Close to vol_lag_20\n",
            "dtypes: float64(148), int64(1)\n",
            "memory usage: 7.9 MB\n"
          ]
        }
      ],
      "source": [
        "df.info()"
      ]
    },
    {
      "cell_type": "code",
      "execution_count": null,
      "metadata": {
        "colab": {
          "base_uri": "https://localhost:8080/"
        },
        "id": "HjTEqI-FUVLj",
        "outputId": "57eb9e69-e3f5-48d5-c773-87637e30dae8"
      },
      "outputs": [
        {
          "output_type": "execute_result",
          "data": {
            "text/plain": [
              "140"
            ]
          },
          "metadata": {},
          "execution_count": 183
        }
      ],
      "source": [
        "len(cols)"
      ]
    },
    {
      "cell_type": "code",
      "execution_count": null,
      "metadata": {
        "id": "YoPCDv7fUVLj"
      },
      "outputs": [],
      "source": []
    },
    {
      "cell_type": "code",
      "execution_count": null,
      "metadata": {
        "colab": {
          "base_uri": "https://localhost:8080/"
        },
        "id": "yZWjUdveUVLj",
        "outputId": "d733a084-a19b-47bf-fb06-e03556458c69"
      },
      "outputs": [
        {
          "output_type": "execute_result",
          "data": {
            "text/plain": [
              "7212"
            ]
          },
          "metadata": {},
          "execution_count": 60
        }
      ],
      "source": [
        "len(df)"
      ]
    },
    {
      "cell_type": "code",
      "execution_count": null,
      "metadata": {
        "colab": {
          "base_uri": "https://localhost:8080/"
        },
        "id": "Tu_ecZmiUVLj",
        "outputId": "95dec02d-f92a-4c58-f163-1b46816a783d"
      },
      "outputs": [
        {
          "output_type": "execute_result",
          "data": {
            "text/plain": [
              "5769"
            ]
          },
          "metadata": {},
          "execution_count": 61
        }
      ],
      "source": [
        "split = int(len(df)*0.80)\n",
        "split"
      ]
    },
    {
      "cell_type": "code",
      "execution_count": null,
      "metadata": {
        "id": "n6r7SyACUVLk"
      },
      "outputs": [],
      "source": [
        "train = df.iloc[:split].copy()\n"
      ]
    },
    {
      "cell_type": "code",
      "execution_count": null,
      "metadata": {
        "id": "RnH1lyB9UVLk"
      },
      "outputs": [],
      "source": [
        "test = df.iloc[split:].copy()\n"
      ]
    },
    {
      "cell_type": "code",
      "execution_count": null,
      "metadata": {
        "id": "xblFZMs5UVLk"
      },
      "outputs": [],
      "source": []
    },
    {
      "cell_type": "code",
      "execution_count": null,
      "metadata": {
        "id": "EXpaOIJ_UVLk"
      },
      "outputs": [],
      "source": [
        "train[cols]"
      ]
    },
    {
      "cell_type": "code",
      "execution_count": null,
      "metadata": {
        "id": "C2TVcuULUVLl"
      },
      "outputs": [],
      "source": [
        "mu, std = train.mean(), train.std() # train set parameters (mu, std) for standardization"
      ]
    },
    {
      "cell_type": "code",
      "execution_count": null,
      "metadata": {
        "colab": {
          "base_uri": "https://localhost:8080/"
        },
        "id": "esVNWEQ3UVLl",
        "outputId": "d0fe419e-41cc-4379-f406-21064b57d6c9"
      },
      "outputs": [
        {
          "output_type": "execute_result",
          "data": {
            "text/plain": [
              "Close        0.00220\n",
              "returns      0.00018\n",
              "dir          0.47205\n",
              "sma          0.00048\n",
              "boll         1.26741\n",
              "               ...  \n",
              "vol_lag_16   0.00004\n",
              "vol_lag_17   0.00004\n",
              "vol_lag_18   0.00004\n",
              "vol_lag_19   0.00004\n",
              "vol_lag_20   0.00004\n",
              "Length: 149, dtype: float64"
            ]
          },
          "metadata": {},
          "execution_count": 209
        }
      ],
      "source": [
        "std"
      ]
    },
    {
      "cell_type": "code",
      "execution_count": null,
      "metadata": {
        "id": "-eiQkn5qUVLl"
      },
      "outputs": [],
      "source": [
        "train_s = (train - mu) / std # standardization of train set features"
      ]
    },
    {
      "cell_type": "code",
      "execution_count": null,
      "metadata": {
        "id": "K3EbqzBOUVLl"
      },
      "outputs": [],
      "source": [
        "train_s"
      ]
    },
    {
      "cell_type": "code",
      "execution_count": null,
      "metadata": {
        "id": "cjOGRX-KUVLl"
      },
      "outputs": [],
      "source": [
        "train_s.describe()"
      ]
    },
    {
      "cell_type": "code",
      "execution_count": null,
      "metadata": {
        "id": "2UhusMKMUVLm",
        "colab": {
          "base_uri": "https://localhost:8080/"
        },
        "outputId": "57e3441b-49e7-4c01-ad9b-003f23e14d12"
      },
      "outputs": [
        {
          "output_type": "stream",
          "name": "stderr",
          "text": [
            "/usr/local/lib/python3.8/dist-packages/keras/optimizers/optimizer_v2/adam.py:117: UserWarning: The `lr` argument is deprecated, use `learning_rate` instead.\n",
            "  super().__init__(name, **kwargs)\n"
          ]
        }
      ],
      "source": [
        "from DNNModel import *"
      ]
    },
    {
      "cell_type": "code",
      "execution_count": null,
      "metadata": {
        "colab": {
          "base_uri": "https://localhost:8080/"
        },
        "id": "3I1ljVN3UVLm",
        "outputId": "2de185c5-2c6e-4fe4-dc80-dc7886181bed"
      },
      "outputs": [
        {
          "output_type": "execute_result",
          "data": {
            "text/plain": [
              "<keras.callbacks.History at 0x7f6b0061d820>"
            ]
          },
          "metadata": {},
          "execution_count": 202
        }
      ],
      "source": [
        "# fitting a DNN model with 3 Hidden Layers (50 nodes each) and dropout regularization\n",
        "\n",
        "set_seeds(100)\n",
        "model = create_model(hl = 3, hu = 50, dropout = True, input_dim = len(cols))\n",
        "model.fit(x = train_s[cols], y = train[\"dir\"], epochs = 100, verbose = False,\n",
        "          validation_split = 0.2, shuffle = False, class_weight = cw(train))"
      ]
    },
    {
      "cell_type": "code",
      "execution_count": null,
      "metadata": {
        "colab": {
          "base_uri": "https://localhost:8080/"
        },
        "id": "paaGUjfjUVLm",
        "outputId": "98a91c59-2aea-4719-f230-f8cc75f0d16a"
      },
      "outputs": [
        {
          "output_type": "stream",
          "name": "stdout",
          "text": [
            "181/181 [==============================] - 0s 2ms/step - loss: 0.6608 - accuracy: 0.6226\n"
          ]
        },
        {
          "output_type": "execute_result",
          "data": {
            "text/plain": [
              "[0.6608126759529114, 0.6226382255554199]"
            ]
          },
          "metadata": {},
          "execution_count": 203
        }
      ],
      "source": [
        "model.evaluate(train_s[cols], train[\"dir\"]) # evaluate the fit on the train set"
      ]
    },
    {
      "cell_type": "code",
      "execution_count": null,
      "metadata": {
        "colab": {
          "base_uri": "https://localhost:8080/"
        },
        "id": "a1205OknUVLm",
        "outputId": "df56f439-8dcd-4622-d565-85ff188a6538"
      },
      "outputs": [
        {
          "output_type": "stream",
          "name": "stdout",
          "text": [
            "181/181 [==============================] - 0s 2ms/step\n"
          ]
        },
        {
          "output_type": "execute_result",
          "data": {
            "text/plain": [
              "array([[0.47427085],\n",
              "       [0.46031338],\n",
              "       [0.5509211 ],\n",
              "       ...,\n",
              "       [0.44588858],\n",
              "       [0.46105662],\n",
              "       [0.51182866]], dtype=float32)"
            ]
          },
          "metadata": {},
          "execution_count": 204
        }
      ],
      "source": [
        "pred = model.predict(train_s[cols]) # prediction (probabilities)\n",
        "pred"
      ]
    },
    {
      "cell_type": "code",
      "execution_count": null,
      "metadata": {
        "colab": {
          "base_uri": "https://localhost:8080/",
          "height": 347
        },
        "id": "MVYxRLglUVLn",
        "outputId": "f7eafa82-5d08-4ba3-e2c4-a955b0de2952"
      },
      "outputs": [
        {
          "output_type": "display_data",
          "data": {
            "text/plain": [
              "<Figure size 576x396 with 1 Axes>"
            ],
            "image/png": "[encoded data removed]"
          },
          "metadata": {}
        }
      ],
      "source": [
        "plt.hist(pred, bins = 50)\n",
        "plt.show()"
      ]
    },
    {
      "cell_type": "code",
      "execution_count": null,
      "metadata": {
        "id": "im1F5KAxUVLn"
      },
      "outputs": [],
      "source": []
    },
    {
      "cell_type": "markdown",
      "metadata": {
        "id": "eBSeeP3MUVLn"
      },
      "source": [
        "## Out-Sample Prediction and Forward Testing"
      ]
    },
    {
      "cell_type": "code",
      "execution_count": null,
      "metadata": {
        "id": "dgdSjw8iUVLn"
      },
      "outputs": [],
      "source": [
        "test"
      ]
    },
    {
      "cell_type": "code",
      "execution_count": null,
      "metadata": {
        "id": "SsIi24PrUVLn"
      },
      "outputs": [],
      "source": [
        "test_s = (test - mu) / std # standardization of test set features (with train set parameters!!!)"
      ]
    },
    {
      "cell_type": "code",
      "execution_count": null,
      "metadata": {
        "colab": {
          "base_uri": "https://localhost:8080/"
        },
        "id": "XTMl3xHUUVLo",
        "outputId": "9c06a402-0439-4a1c-f9cc-36a1a8bcda90"
      },
      "outputs": [
        {
          "output_type": "stream",
          "name": "stdout",
          "text": [
            "46/46 [==============================] - 0s 3ms/step - loss: 0.6788 - accuracy: 0.5662\n"
          ]
        },
        {
          "output_type": "execute_result",
          "data": {
            "text/plain": [
              "[0.6788281798362732, 0.5661815404891968]"
            ]
          },
          "metadata": {},
          "execution_count": 207
        }
      ],
      "source": [
        "model.evaluate(test_s[cols], test[\"dir\"])"
      ]
    },
    {
      "cell_type": "code",
      "execution_count": null,
      "metadata": {
        "colab": {
          "base_uri": "https://localhost:8080/"
        },
        "id": "NgMX3UcYUVLo",
        "outputId": "02ec2bc0-3199-4354-a9e0-1f2a5e23ab69"
      },
      "outputs": [
        {
          "output_type": "stream",
          "name": "stdout",
          "text": [
            "46/46 [==============================] - 0s 2ms/step\n"
          ]
        },
        {
          "output_type": "execute_result",
          "data": {
            "text/plain": [
              "array([[0.518315  ],\n",
              "       [0.5157827 ],\n",
              "       [0.47797334],\n",
              "       ...,\n",
              "       [0.46844494],\n",
              "       [0.5210645 ],\n",
              "       [0.52655333]], dtype=float32)"
            ]
          },
          "metadata": {},
          "execution_count": 208
        }
      ],
      "source": [
        "pred = model.predict(test_s[cols])\n",
        "pred"
      ]
    },
    {
      "cell_type": "code",
      "execution_count": null,
      "metadata": {
        "colab": {
          "base_uri": "https://localhost:8080/",
          "height": 347
        },
        "id": "xENpXp_QUVLo",
        "outputId": "683d9d40-6422-4dfc-83f3-3052ee227a61"
      },
      "outputs": [
        {
          "output_type": "display_data",
          "data": {
            "text/plain": [
              "<Figure size 576x396 with 1 Axes>"
            ],
            "image/png": "[encoded data removed]"
          },
          "metadata": {}
        }
      ],
      "source": [
        "plt.hist(pred, bins = 50);"
      ]
    },
    {
      "cell_type": "code",
      "execution_count": null,
      "metadata": {
        "colab": {
          "base_uri": "https://localhost:8080/"
        },
        "id": "ZTRj3Xq8UVLo",
        "outputId": "0c05cac6-9067-46ba-93d5-8cdbfe423e2b"
      },
      "outputs": [
        {
          "output_type": "stream",
          "name": "stdout",
          "text": [
            "46/46 [==============================] - 0s 1ms/step\n"
          ]
        }
      ],
      "source": [
        "test[\"proba\"] = model.predict(test_s[cols])"
      ]
    },
    {
      "cell_type": "code",
      "source": [
        "test"
      ],
      "metadata": {
        "id": "Ak_zqgcmVXAx"
      },
      "execution_count": null,
      "outputs": []
    },
    {
      "cell_type": "code",
      "execution_count": null,
      "metadata": {
        "id": "PjGoNEKkUVLo"
      },
      "outputs": [],
      "source": [
        "test[\"position\"] = np.where(test.proba < 0.5, -1, np.nan) # 1. short where proba < 0.47"
      ]
    },
    {
      "cell_type": "code",
      "execution_count": null,
      "metadata": {
        "id": "d256aoZDUVLp"
      },
      "outputs": [],
      "source": [
        "test[\"position\"] = np.where(test.proba > 0.5, 1, test.position) # 2. long where proba > 0.53"
      ]
    },
    {
      "cell_type": "code",
      "source": [
        "test.to_csv('data2.csv')"
      ],
      "metadata": {
        "id": "0PxRvaUlVhG4"
      },
      "execution_count": null,
      "outputs": []
    },
    {
      "cell_type": "code",
      "execution_count": null,
      "metadata": {
        "id": "vXQTSkKzUVLp"
      },
      "outputs": [],
      "source": [
        "test.index = test.index.tz_localize(\"UTC\")\n",
        "test[\"NYTime\"] = test.index.tz_convert(\"America/New_York\")\n",
        "test[\"hour\"] = test.NYTime.dt.hour"
      ]
    },
    {
      "cell_type": "code",
      "source": [
        "test.index = test.index.tz_convert(\"UTC\")  # convert to UTC timezone\n",
        "test[\"NYTime\"] = test.index.tz_convert(\"America/New_York\")  # convert to New York timezone\n",
        "test[\"hour\"] = test.NYTime.dt.hour  # extract hour of the day"
      ],
      "metadata": {
        "id": "fISJV8_sWfZG"
      },
      "execution_count": null,
      "outputs": []
    },
    {
      "cell_type": "code",
      "execution_count": null,
      "metadata": {
        "id": "8wp8Xu_mUVLp"
      },
      "outputs": [],
      "source": [
        "test[\"position\"] = np.where(~test.hour.between(2, 12), 0, test.position) # 3. neutral in non-busy hours"
      ]
    },
    {
      "cell_type": "code",
      "execution_count": null,
      "metadata": {
        "id": "L7eU-1zmUVLp"
      },
      "outputs": [],
      "source": [
        "test[\"position\"] = test.position.ffill().fillna(0) # 4. in all other cases: hold position"
      ]
    },
    {
      "cell_type": "code",
      "source": [
        "test.to_csv('data3.csv')"
      ],
      "metadata": {
        "id": "Fb8PjFGnV3iR"
      },
      "execution_count": null,
      "outputs": []
    },
    {
      "cell_type": "code",
      "execution_count": null,
      "metadata": {
        "colab": {
          "base_uri": "https://localhost:8080/"
        },
        "id": "aTvrD6bqUVLp",
        "outputId": "16466eef-52f9-42cb-c496-b8ba07e54d4f"
      },
      "outputs": [
        {
          "output_type": "execute_result",
          "data": {
            "text/plain": [
              "-1.00000    796\n",
              "1.00000     647\n",
              "Name: position, dtype: int64"
            ]
          },
          "metadata": {},
          "execution_count": 214
        }
      ],
      "source": [
        "test.position.value_counts(dropna = False)"
      ]
    },
    {
      "cell_type": "code",
      "execution_count": null,
      "metadata": {
        "id": "rLu0ZRM4UVLq"
      },
      "outputs": [],
      "source": [
        "test[\"strategy\"] = test[\"position\"] * test[\"returns\"]"
      ]
    },
    {
      "cell_type": "code",
      "execution_count": null,
      "metadata": {
        "id": "9761BAnuUVLq"
      },
      "outputs": [],
      "source": [
        "test[\"creturns\"] = test[\"returns\"].cumsum().apply(np.exp)\n",
        "test[\"cstrategy\"] = test[\"strategy\"].cumsum().apply(np.exp)"
      ]
    },
    {
      "cell_type": "code",
      "execution_count": null,
      "metadata": {
        "colab": {
          "base_uri": "https://localhost:8080/",
          "height": 478
        },
        "id": "q0taJvTXUVLq",
        "outputId": "caa35535-3d7f-439c-f8b7-d3a47b1a0552"
      },
      "outputs": [
        {
          "output_type": "display_data",
          "data": {
            "text/plain": [
              "<Figure size 864x576 with 1 Axes>"
            ],
            "image/png": "[encoded data removed]"
          },
          "metadata": {}
        }
      ],
      "source": [
        "test[[\"creturns\", \"cstrategy\"]].plot(figsize = (12, 8))\n",
        "plt.show()"
      ]
    },
    {
      "cell_type": "code",
      "execution_count": null,
      "metadata": {
        "id": "klk4XU1ZUVLq"
      },
      "outputs": [],
      "source": [
        "ptc = 0.000056"
      ]
    },
    {
      "cell_type": "code",
      "execution_count": null,
      "metadata": {
        "id": "Ar1W9H7sUVLq"
      },
      "outputs": [],
      "source": [
        "test[\"trades\"] = test.position.diff().abs()"
      ]
    },
    {
      "cell_type": "code",
      "execution_count": null,
      "metadata": {
        "colab": {
          "base_uri": "https://localhost:8080/"
        },
        "id": "UixULEeCUVLr",
        "outputId": "d7cf1fe6-ba57-4f06-f3eb-f93b9d5553a0"
      },
      "outputs": [
        {
          "output_type": "execute_result",
          "data": {
            "text/plain": [
              "0.00000    854\n",
              "2.00000    588\n",
              "Name: trades, dtype: int64"
            ]
          },
          "metadata": {},
          "execution_count": 220
        }
      ],
      "source": [
        "test.trades.value_counts()"
      ]
    },
    {
      "cell_type": "code",
      "execution_count": null,
      "metadata": {
        "id": "az74qXJrUVLr"
      },
      "outputs": [],
      "source": [
        "test[\"strategy_net\"] = test.strategy - test.trades * ptc"
      ]
    },
    {
      "cell_type": "code",
      "execution_count": null,
      "metadata": {
        "id": "2_N7uBGXUVLr"
      },
      "outputs": [],
      "source": [
        "test[\"cstrategy_net\"] = test[\"strategy_net\"].cumsum().apply(np.exp)"
      ]
    },
    {
      "cell_type": "code",
      "execution_count": null,
      "metadata": {
        "colab": {
          "base_uri": "https://localhost:8080/",
          "height": 478
        },
        "id": "xssPD7k0UVLr",
        "outputId": "b7787b20-981e-4be9-d3dc-70963bd175b3"
      },
      "outputs": [
        {
          "output_type": "display_data",
          "data": {
            "text/plain": [
              "<Figure size 864x576 with 1 Axes>"
            ],
            "image/png": "[encoded data removed]"
          },
          "metadata": {}
        }
      ],
      "source": [
        "test[[\"creturns\", \"cstrategy\", \"cstrategy_net\"]].plot(figsize = (12, 8))\n",
        "plt.show()"
      ]
    },
    {
      "cell_type": "code",
      "execution_count": null,
      "metadata": {
        "id": "I97GZ0P-UVLr"
      },
      "outputs": [],
      "source": []
    },
    {
      "cell_type": "code",
      "execution_count": null,
      "metadata": {
        "colab": {
          "base_uri": "https://localhost:8080/"
        },
        "id": "EvHFb-f0UVLs",
        "outputId": "6b437a9d-b7f5-4833-d7eb-cb07636a6de1"
      },
      "outputs": [
        {
          "output_type": "execute_result",
          "data": {
            "text/plain": [
              "<keras.engine.sequential.Sequential at 0x7f6affe5af40>"
            ]
          },
          "metadata": {},
          "execution_count": 224
        }
      ],
      "source": [
        "model"
      ]
    },
    {
      "cell_type": "code",
      "execution_count": null,
      "metadata": {
        "colab": {
          "base_uri": "https://localhost:8080/"
        },
        "id": "4cZ4peBPUVLs",
        "outputId": "2c6ef3d2-ea42-42cd-b5b6-01b09b5b3a72"
      },
      "outputs": [
        {
          "output_type": "execute_result",
          "data": {
            "text/plain": [
              "Close         1.08065\n",
              "returns      -0.00000\n",
              "dir           0.40926\n",
              "sma          -0.00015\n",
              "boll          0.03762\n",
              "               ...   \n",
              "vol_lag_16    0.00033\n",
              "vol_lag_17    0.00033\n",
              "vol_lag_18    0.00033\n",
              "vol_lag_19    0.00033\n",
              "vol_lag_20    0.00033\n",
              "Length: 149, dtype: float64"
            ]
          },
          "metadata": {},
          "execution_count": 225
        }
      ],
      "source": [
        "mu"
      ]
    },
    {
      "cell_type": "code",
      "execution_count": null,
      "metadata": {
        "colab": {
          "base_uri": "https://localhost:8080/"
        },
        "id": "DUByU_p1UVLs",
        "outputId": "1301668a-2200-4819-b811-e9ed33133a05"
      },
      "outputs": [
        {
          "output_type": "execute_result",
          "data": {
            "text/plain": [
              "Close        0.00946\n",
              "returns      0.00036\n",
              "dir          0.49174\n",
              "sma          0.00158\n",
              "boll         1.39165\n",
              "               ...  \n",
              "vol_lag_16   0.00015\n",
              "vol_lag_17   0.00015\n",
              "vol_lag_18   0.00015\n",
              "vol_lag_19   0.00015\n",
              "vol_lag_20   0.00015\n",
              "Length: 149, dtype: float64"
            ]
          },
          "metadata": {},
          "execution_count": 226
        }
      ],
      "source": [
        "std"
      ]
    },
    {
      "cell_type": "code",
      "execution_count": null,
      "metadata": {
        "id": "kp0-ovoEUVLs"
      },
      "outputs": [],
      "source": [
        "model.save(\"DNN_model\")"
      ]
    },
    {
      "cell_type": "code",
      "execution_count": null,
      "metadata": {
        "id": "s5Q5MsQnUVLs"
      },
      "outputs": [],
      "source": [
        "import pickle"
      ]
    },
    {
      "cell_type": "code",
      "execution_count": null,
      "metadata": {
        "id": "3pSF68MoUVLt"
      },
      "outputs": [],
      "source": [
        "params = {\"mu\":mu, \"std\":std}"
      ]
    },
    {
      "cell_type": "code",
      "execution_count": null,
      "metadata": {
        "colab": {
          "base_uri": "https://localhost:8080/"
        },
        "id": "vnoo-Ay2UVLt",
        "outputId": "ef5fc845-ae61-499c-accf-dd0025478a54"
      },
      "outputs": [
        {
          "output_type": "execute_result",
          "data": {
            "text/plain": [
              "{'mu': Close         1.08065\n",
              " returns      -0.00000\n",
              " dir           0.40926\n",
              " sma          -0.00015\n",
              " boll          0.03762\n",
              "                ...   \n",
              " vol_lag_16    0.00033\n",
              " vol_lag_17    0.00033\n",
              " vol_lag_18    0.00033\n",
              " vol_lag_19    0.00033\n",
              " vol_lag_20    0.00033\n",
              " Length: 149, dtype: float64, 'std': Close        0.00946\n",
              " returns      0.00036\n",
              " dir          0.49174\n",
              " sma          0.00158\n",
              " boll         1.39165\n",
              "                ...  \n",
              " vol_lag_16   0.00015\n",
              " vol_lag_17   0.00015\n",
              " vol_lag_18   0.00015\n",
              " vol_lag_19   0.00015\n",
              " vol_lag_20   0.00015\n",
              " Length: 149, dtype: float64}"
            ]
          },
          "metadata": {},
          "execution_count": 230
        }
      ],
      "source": [
        "params"
      ]
    },
    {
      "cell_type": "code",
      "execution_count": null,
      "metadata": {
        "id": "CVRj7txgUVLt"
      },
      "outputs": [],
      "source": [
        "pickle.dump(params, open(\"params.pkl\", \"wb\"))"
      ]
    },
    {
      "cell_type": "code",
      "execution_count": null,
      "metadata": {
        "id": "HgoVtT53UVLt",
        "colab": {
          "base_uri": "https://localhost:8080/",
          "height": 627
        },
        "outputId": "c4da81c9-e549-457c-9b09-7c945ae90d37"
      },
      "outputs": [
        {
          "output_type": "stream",
          "name": "stdout",
          "text": [
            "Looking in indexes: https://pypi.org/simple, https://us-python.pkg.dev/colab-wheels/public/simple/\n",
            "Collecting fxcmpy\n",
            "  Downloading fxcmpy-1.3.3-py3-none-any.whl (28 kB)\n",
            "Requirement already satisfied: pandas in /usr/local/lib/python3.8/dist-packages (from fxcmpy) (1.3.5)\n",
            "Collecting configparser\n",
            "  Downloading configparser-5.3.0-py3-none-any.whl (19 kB)\n",
            "Collecting python-engineio==4.3.1\n",
            "  Downloading python_engineio-4.3.1-py3-none-any.whl (52 kB)\n",
            "\u001b[2K     \u001b[90m━━━━━━━━━━━━━━━━━━━━━━━━━━━━━━━━━━━━━━━━\u001b[0m \u001b[32m52.7/52.7 KB\u001b[0m \u001b[31m6.1 MB/s\u001b[0m eta \u001b[36m0:00:00\u001b[0m\n",
            "\u001b[?25hCollecting python-socketio==5.0.4\n",
            "  Downloading python_socketio-5.0.4-py2.py3-none-any.whl (52 kB)\n",
            "\u001b[2K     \u001b[90m━━━━━━━━━━━━━━━━━━━━━━━━━━━━━━━━━━━━━━━━\u001b[0m \u001b[32m52.7/52.7 KB\u001b[0m \u001b[31m6.3 MB/s\u001b[0m eta \u001b[36m0:00:00\u001b[0m\n",
            "\u001b[?25hCollecting websocket-client\n",
            "  Downloading websocket_client-1.5.1-py3-none-any.whl (55 kB)\n",
            "\u001b[2K     \u001b[90m━━━━━━━━━━━━━━━━━━━━━━━━━━━━━━━━━━━━━━━━\u001b[0m \u001b[32m55.9/55.9 KB\u001b[0m \u001b[31m6.9 MB/s\u001b[0m eta \u001b[36m0:00:00\u001b[0m\n",
            "\u001b[?25hRequirement already satisfied: requests[socks] in /usr/local/lib/python3.8/dist-packages (from fxcmpy) (2.28.2)\n",
            "Collecting bidict>=0.21.0\n",
            "  Downloading bidict-0.22.1-py3-none-any.whl (35 kB)\n",
            "Requirement already satisfied: numpy>=1.17.3 in /usr/local/lib/python3.8/dist-packages (from pandas->fxcmpy) (1.22.4)\n",
            "Requirement already satisfied: python-dateutil>=2.7.3 in /usr/local/lib/python3.8/dist-packages (from pandas->fxcmpy) (2.8.2)\n",
            "Requirement already satisfied: pytz>=2017.3 in /usr/local/lib/python3.8/dist-packages (from pandas->fxcmpy) (2022.7.1)\n",
            "Requirement already satisfied: urllib3<1.27,>=1.21.1 in /usr/local/lib/python3.8/dist-packages (from requests[socks]->fxcmpy) (1.24.3)\n",
            "Requirement already satisfied: charset-normalizer<4,>=2 in /usr/local/lib/python3.8/dist-packages (from requests[socks]->fxcmpy) (3.0.1)\n",
            "Requirement already satisfied: idna<4,>=2.5 in /usr/local/lib/python3.8/dist-packages (from requests[socks]->fxcmpy) (2.10)\n",
            "Requirement already satisfied: certifi>=2017.4.17 in /usr/local/lib/python3.8/dist-packages (from requests[socks]->fxcmpy) (2022.12.7)\n",
            "Requirement already satisfied: PySocks!=1.5.7,>=1.5.6 in /usr/local/lib/python3.8/dist-packages (from requests[socks]->fxcmpy) (1.7.1)\n",
            "Requirement already satisfied: six>=1.5 in /usr/local/lib/python3.8/dist-packages (from python-dateutil>=2.7.3->pandas->fxcmpy) (1.15.0)\n",
            "Installing collected packages: websocket-client, python-engineio, configparser, bidict, python-socketio, fxcmpy\n",
            "Successfully installed bidict-0.22.1 configparser-5.3.0 fxcmpy-1.3.3 python-engineio-4.3.1 python-socketio-5.0.4 websocket-client-1.5.1\n"
          ]
        },
        {
          "output_type": "display_data",
          "data": {
            "application/vnd.colab-display-data+json": {
              "pip_warning": {
                "packages": [
                  "configparser"
                ]
              }
            }
          },
          "metadata": {}
        }
      ],
      "source": [
        "!pip install fxcmpy"
      ]
    },
    {
      "cell_type": "code",
      "execution_count": null,
      "metadata": {
        "id": "_NiC9xFCUVLt"
      },
      "outputs": [],
      "source": [
        "import pandas as pd\n",
        "import numpy as np\n",
        "\n",
        "import fxcmpy\n",
        "from datetime import datetime, timedelta\n",
        "import time"
      ]
    },
    {
      "cell_type": "code",
      "execution_count": null,
      "metadata": {
        "id": "dgOSOxuzUVLu"
      },
      "outputs": [],
      "source": [
        "# Loading the model\n",
        "import keras\n",
        "model = keras.models.load_model(\"DNN_model\")"
      ]
    },
    {
      "cell_type": "code",
      "execution_count": null,
      "metadata": {
        "id": "vqGd8Q_dUVLu",
        "colab": {
          "base_uri": "https://localhost:8080/"
        },
        "outputId": "0f37a885-b722-452d-b04d-e628f9e9f069"
      },
      "outputs": [
        {
          "output_type": "execute_result",
          "data": {
            "text/plain": [
              "<keras.engine.sequential.Sequential at 0x7f6afffce5b0>"
            ]
          },
          "metadata": {},
          "execution_count": 237
        }
      ],
      "source": [
        "model"
      ]
    },
    {
      "cell_type": "code",
      "execution_count": null,
      "metadata": {
        "id": "shenL9s3UVLu"
      },
      "outputs": [],
      "source": [
        "# Loading mu and std\n",
        "import pickle\n",
        "params = pickle.load(open(\"params.pkl\", \"rb\"))\n",
        "mu = params[\"mu\"]\n",
        "std = params[\"std\"]"
      ]
    },
    {
      "cell_type": "code",
      "execution_count": null,
      "metadata": {
        "id": "aEjXTWYYUVLu",
        "colab": {
          "base_uri": "https://localhost:8080/"
        },
        "outputId": "66dfc9c6-f075-45bc-aed2-9450f30e74c2"
      },
      "outputs": [
        {
          "output_type": "execute_result",
          "data": {
            "text/plain": [
              "Close         1.08065\n",
              "returns      -0.00000\n",
              "dir           0.40926\n",
              "sma          -0.00015\n",
              "boll          0.03762\n",
              "               ...   \n",
              "vol_lag_16    0.00033\n",
              "vol_lag_17    0.00033\n",
              "vol_lag_18    0.00033\n",
              "vol_lag_19    0.00033\n",
              "vol_lag_20    0.00033\n",
              "Length: 149, dtype: float64"
            ]
          },
          "metadata": {},
          "execution_count": 239
        }
      ],
      "source": [
        "mu"
      ]
    },
    {
      "cell_type": "code",
      "execution_count": null,
      "metadata": {
        "id": "49j9J2KFUVLu",
        "colab": {
          "base_uri": "https://localhost:8080/"
        },
        "outputId": "a61b3d57-e0ec-40a6-9758-4e5f1353024d"
      },
      "outputs": [
        {
          "output_type": "execute_result",
          "data": {
            "text/plain": [
              "Close        0.00946\n",
              "returns      0.00036\n",
              "dir          0.49174\n",
              "sma          0.00158\n",
              "boll         1.39165\n",
              "               ...  \n",
              "vol_lag_16   0.00015\n",
              "vol_lag_17   0.00015\n",
              "vol_lag_18   0.00015\n",
              "vol_lag_19   0.00015\n",
              "vol_lag_20   0.00015\n",
              "Length: 149, dtype: float64"
            ]
          },
          "metadata": {},
          "execution_count": 240
        }
      ],
      "source": [
        "std"
      ]
    },
    {
      "cell_type": "code",
      "execution_count": null,
      "metadata": {
        "id": "bxEh1chZUVLv"
      },
      "outputs": [],
      "source": [
        "class DNNTrader(tpqoa.tpqoa):\n",
        "    def __init__(self, conf_file, instrument, bar_length, window, lags, model, mu, std, units):\n",
        "        super().__init__(conf_file)\n",
        "        self.instrument = instrument\n",
        "        self.bar_length = pd.to_timedelta(bar_length)\n",
        "        self.tick_data = pd.DataFrame()\n",
        "        self.raw_data = None\n",
        "        self.data = None \n",
        "        self.last_bar = None\n",
        "        self.units = units\n",
        "        self.position = 0\n",
        "        self.profits = []\n",
        "        \n",
        "        #*****************add strategy-specific attributes here******************\n",
        "        self.window = window\n",
        "        self.lags = lags\n",
        "        self.model = model\n",
        "        self.mu = mu\n",
        "        self.std = std\n",
        "        #************************************************************************\n",
        "    \n",
        "    def get_most_recent(self, days = 5):\n",
        "        while True:\n",
        "            time.sleep(2)\n",
        "            now = datetime.utcnow()\n",
        "            now = now - timedelta(microseconds = now.microsecond)\n",
        "            past = now - timedelta(days = days)\n",
        "            df = self.get_history(instrument = self.instrument, start = past, end = now,\n",
        "                                   granularity = \"S5\", price = \"M\", localize = False).c.dropna().to_frame()\n",
        "            df.rename(columns = {\"c\":self.instrument}, inplace = True)\n",
        "            df = df.resample(self.bar_length, label = \"right\").last().dropna().iloc[:-1]\n",
        "            self.raw_data = df.copy()\n",
        "            self.last_bar = self.raw_data.index[-1]\n",
        "            if pd.to_datetime(datetime.utcnow()).tz_localize(\"UTC\") - self.last_bar < self.bar_length:\n",
        "                self.start_time = pd.to_datetime(datetime.utcnow()).tz_localize(\"UTC\") # NEW -> Start Time of Trading Session\n",
        "                break\n",
        "                \n",
        "    def on_success(self, time, bid, ask):\n",
        "        print(self.ticks, end = \" \", flush = True)\n",
        "        \n",
        "        recent_tick = pd.to_datetime(time)\n",
        "        df = pd.DataFrame({self.instrument:(ask + bid)/2}, \n",
        "                          index = [recent_tick])\n",
        "        self.tick_data = self.tick_data.append(df)\n",
        "        \n",
        "        if recent_tick - self.last_bar > self.bar_length:\n",
        "            self.resample_and_join()\n",
        "            self.define_strategy()\n",
        "            self.execute_trades()\n",
        "    \n",
        "    def resample_and_join(self):\n",
        "        self.raw_data = self.raw_data.append(self.tick_data.resample(self.bar_length, \n",
        "                                                                  label=\"right\").last().ffill().iloc[:-1])\n",
        "        self.tick_data = self.tick_data.iloc[-1:]\n",
        "        self.last_bar = self.raw_data.index[-1]\n",
        "    \n",
        "    def define_strategy(self): # \"strategy-specific\"\n",
        "        df = self.raw_data.copy()\n",
        "        \n",
        "        #******************** define your strategy here ************************\n",
        "        #create features\n",
        "        df = df.append(self.tick_data) # append latest tick (== open price of current bar)\n",
        "        df[\"returns\"] = np.log(df[self.instrument] / df[self.instrument].shift())\n",
        "        df[\"dir\"] = np.where(df[\"returns\"] > 0, 1, 0)\n",
        "        df[\"sma\"] = df[self.instrument].rolling(self.window).mean() - df[self.instrument].rolling(150).mean()\n",
        "        df[\"boll\"] = (df[self.instrument] - df[self.instrument].rolling(self.window).mean()) / df[self.instrument].rolling(self.window).std()\n",
        "        df[\"min\"] = df[self.instrument].rolling(self.window).min() / df[self.instrument] - 1\n",
        "        df[\"max\"] = df[self.instrument].rolling(self.window).max() / df[self.instrument] - 1\n",
        "        df[\"mom\"] = df[\"returns\"].rolling(3).mean()\n",
        "        df[\"vol\"] = df[\"returns\"].rolling(self.window).std()\n",
        "        df.dropna(inplace = True)\n",
        "        \n",
        "        # create lags\n",
        "        self.cols = []\n",
        "        features = [\"dir\", \"sma\", \"boll\", \"min\", \"max\", \"mom\", \"vol\"]\n",
        "\n",
        "        for f in features:\n",
        "            for lag in range(1, self.lags + 1):\n",
        "                col = \"{}_lag_{}\".format(f, lag)\n",
        "                df[col] = df[f].shift(lag)\n",
        "                self.cols.append(col)\n",
        "        df.dropna(inplace = True)\n",
        "        \n",
        "        # standardization\n",
        "        df_s = (df - self.mu) / self.std\n",
        "        # predict\n",
        "        df[\"proba\"] = self.model.predict(df_s[self.cols])\n",
        "        \n",
        "        #determine positions\n",
        "        df = df.loc[self.start_time:].copy() # starting with first live_stream bar (removing historical bars)\n",
        "        df[\"position\"] = np.where(df.proba < 0.47, -1, np.nan)\n",
        "        df[\"position\"] = np.where(df.proba > 0.53, 1, df.position)\n",
        "        df[\"position\"] = df.position.ffill().fillna(0) # start with neutral position if no strong signal\n",
        "        #***********************************************************************\n",
        "        \n",
        "        self.data = df.copy()\n",
        "    \n",
        "    def execute_trades(self):\n",
        "        if self.data[\"position\"].iloc[-1] == 1:\n",
        "            if self.position == 0:\n",
        "                order = self.create_order(self.instrument, self.units, suppress = True, ret = True)\n",
        "                self.report_trade(order, \"GOING LONG\")\n",
        "            elif self.position == -1:\n",
        "                order = self.create_order(self.instrument, self.units * 2, suppress = True, ret = True) \n",
        "                self.report_trade(order, \"GOING LONG\")\n",
        "            self.position = 1\n",
        "        elif self.data[\"position\"].iloc[-1] == -1: \n",
        "            if self.position == 0:\n",
        "                order = self.create_order(self.instrument, -self.units, suppress = True, ret = True)\n",
        "                self.report_trade(order, \"GOING SHORT\")\n",
        "            elif self.position == 1:\n",
        "                order = self.create_order(self.instrument, -self.units * 2, suppress = True, ret = True)\n",
        "                self.report_trade(order, \"GOING SHORT\")\n",
        "            self.position = -1\n",
        "        elif self.data[\"position\"].iloc[-1] == 0: \n",
        "            if self.position == -1:\n",
        "                order = self.create_order(self.instrument, self.units, suppress = True, ret = True) \n",
        "                self.report_trade(order, \"GOING NEUTRAL\")\n",
        "            elif self.position == 1:\n",
        "                order = self.create_order(self.instrument, -self.units, suppress = True, ret = True)\n",
        "                self.report_trade(order, \"GOING NEUTRAL\")\n",
        "            self.position = 0\n",
        "    \n",
        "    def report_trade(self, order, going):\n",
        "        time = order[\"time\"]\n",
        "        units = order[\"units\"]\n",
        "        price = order[\"price\"]\n",
        "        pl = float(order[\"pl\"])\n",
        "        self.profits.append(pl)\n",
        "        cumpl = sum(self.profits)\n",
        "        print(\"\\n\" + 100* \"-\")\n",
        "        print(\"{} | {}\".format(time, going))\n",
        "        print(\"{} | units = {} | price = {} | P&L = {} | Cum P&L = {}\".format(time, units, price, pl, cumpl))\n",
        "        print(100 * \"-\" + \"\\n\")  "
      ]
    },
    {
      "cell_type": "code",
      "execution_count": null,
      "metadata": {
        "id": "R5mxwY7GUVLw"
      },
      "outputs": [],
      "source": [
        "trader = DNNTrader(\"oanda.cfg\", \"EUR_USD\", bar_length = \"20min\",\n",
        "                   window = 50, lags = 5, model = model, mu = mu, std = std, units = 100000)"
      ]
    },
    {
      "cell_type": "code",
      "execution_count": null,
      "metadata": {
        "id": "yphXJfHSUVLw"
      },
      "outputs": [],
      "source": [
        "trader.get_most_recent()\n",
        "trader.stream_data(trader.instrument, stop = 1000)\n",
        "if trader.position != 0:\n",
        "    close_order = trader.create_order(trader.instrument, units = -trader.position * trader.units,\n",
        "                                      suppress = True, ret = True) \n",
        "    trader.report_trade(close_order, \"GOING NEUTRAL\")\n",
        "    trader.position = 0"
      ]
    },
    {
      "cell_type": "code",
      "execution_count": null,
      "metadata": {
        "scrolled": true,
        "id": "v59osO59UVLw"
      },
      "outputs": [],
      "source": [
        "trader.data"
      ]
    },
    {
      "cell_type": "code",
      "execution_count": null,
      "metadata": {
        "id": "4ZlGB_t8UVLx"
      },
      "outputs": [],
      "source": []
    },
    {
      "cell_type": "code",
      "execution_count": null,
      "metadata": {
        "id": "6nWanqqLUVLx",
        "colab": {
          "base_uri": "https://localhost:8080/"
        },
        "outputId": "b4cc9c2d-4da4-44d0-8f6b-578ff218e56a"
      },
      "outputs": [
        {
          "output_type": "stream",
          "name": "stderr",
          "text": [
            "WARNING:FXCM:Default account set to 1820359, to change use set_default_account().\n"
          ]
        }
      ],
      "source": [
        "api = fxcmpy.fxcmpy(config_file= \"FXCM.cfg\")"
      ]
    },
    {
      "cell_type": "code",
      "execution_count": null,
      "metadata": {
        "id": "tprZw2UFUVLx"
      },
      "outputs": [],
      "source": [
        "col = [\"tradeId\", \"amountK\", \"currency\", \"grossPL\", \"isBuy\"]"
      ]
    },
    {
      "cell_type": "code",
      "execution_count": null,
      "metadata": {
        "id": "wjBH5MzDUVLy"
      },
      "outputs": [],
      "source": [
        "class DNNTrader():\n",
        "    \n",
        "    def __init__(self, instrument, bar_length, window, lags, model, mu, std, units):\n",
        "        self.instrument = instrument\n",
        "        self.bar_length = pd.to_timedelta(bar_length) \n",
        "        self.tick_data = None\n",
        "        self.raw_data = None\n",
        "        self.data = None \n",
        "        self.ticks = 0\n",
        "        self.last_bar = None  \n",
        "        self.units = units\n",
        "        self.position = 0\n",
        "        \n",
        "        #*****************add strategy-specific attributes here******************\n",
        "        self.window = window\n",
        "        self.lags = lags\n",
        "        self.model = model\n",
        "        self.mu = mu\n",
        "        self.std = std\n",
        "        #************************************************************************        \n",
        "    \n",
        "    def get_most_recent(self, period = \"m1\", number = 10000):\n",
        "        while True:  \n",
        "            time.sleep(5)\n",
        "            df = api.get_candles(self.instrument, number = number, period = period, columns = [\"bidclose\", \"askclose\"])\n",
        "            df[self.instrument] = (df.bidclose + df.askclose) / 2\n",
        "            df = df[self.instrument].to_frame()\n",
        "            df = df.resample(self.bar_length, label = \"right\").last().dropna().iloc[:-1]\n",
        "            self.raw_data = df.copy()\n",
        "            self.last_bar = self.raw_data.index[-1]\n",
        "            if pd.to_datetime(datetime.utcnow()) - self.last_bar < self.bar_length:\n",
        "                self.start_time = pd.to_datetime(datetime.utcnow()) # NEW -> Start Time of Trading Session\n",
        "                break\n",
        "    \n",
        "    def get_tick_data(self, data, dataframe):\n",
        "        \n",
        "        self.ticks += 1\n",
        "        print(self.ticks, end = \" \", flush = True)\n",
        "        \n",
        "        recent_tick = pd.to_datetime(data[\"Updated\"], unit = \"ms\")\n",
        "        \n",
        "        if recent_tick - self.last_bar > self.bar_length:\n",
        "            self.tick_data = dataframe.loc[self.last_bar:, [\"Bid\", \"Ask\"]]\n",
        "            self.tick_data[self.instrument] = (self.tick_data.Ask + self.tick_data.Bid)/2\n",
        "            self.tick_data = self.tick_data[self.instrument].to_frame()\n",
        "            self.resample_and_join()\n",
        "            self.define_strategy() \n",
        "            self.execute_trades()\n",
        "            \n",
        "    def resample_and_join(self):\n",
        "        self.raw_data = self.raw_data.append(self.tick_data.resample(self.bar_length, \n",
        "                                                             label=\"right\").last().ffill().iloc[:-1])\n",
        "        self.last_bar = self.raw_data.index[-1]  \n",
        "        \n",
        "    def define_strategy(self): # \"strategy-specific\"\n",
        "        df = self.raw_data.copy()\n",
        "        \n",
        "        #******************** define your strategy here ************************\n",
        "        df = df.append(self.tick_data.iloc[-1]) # append latest tick (== open price of current bar)\n",
        "        df[\"returns\"] = np.log(df[self.instrument] / df[self.instrument].shift())\n",
        "        df[\"dir\"] = np.where(df[\"returns\"] > 0, 1, 0)\n",
        "        df[\"sma\"] = df[self.instrument].rolling(self.window).mean() - df[self.instrument].rolling(150).mean()\n",
        "        df[\"boll\"] = (df[self.instrument] - df[self.instrument].rolling(self.window).mean()) / df[self.instrument].rolling(self.window).std()\n",
        "        df[\"min\"] = df[self.instrument].rolling(self.window).min() / df[self.instrument] - 1\n",
        "        df[\"max\"] = df[self.instrument].rolling(self.window).max() / df[self.instrument] - 1\n",
        "        df[\"mom\"] = df[\"returns\"].rolling(3).mean()\n",
        "        df[\"vol\"] = df[\"returns\"].rolling(self.window).std()\n",
        "        df.dropna(inplace = True)\n",
        "        \n",
        "        # create lags\n",
        "        self.cols = []\n",
        "        features = [\"dir\", \"sma\", \"boll\", \"min\", \"max\", \"mom\", \"vol\"]\n",
        "\n",
        "        for f in features:\n",
        "            for lag in range(1, self.lags + 1):\n",
        "                col = \"{}_lag_{}\".format(f, lag)\n",
        "                df[col] = df[f].shift(lag)\n",
        "                self.cols.append(col)\n",
        "        df.dropna(inplace = True)\n",
        "        \n",
        "        # standardization\n",
        "        df_s = (df - self.mu) / self.std\n",
        "        # predict\n",
        "        df[\"proba\"] = self.model.predict(df_s[self.cols])\n",
        "        \n",
        "        #determine positions\n",
        "        df = df.loc[self.start_time:].copy() # starting with first live_stream bar (removing historical bars)\n",
        "        df[\"position\"] = np.where(df.proba < 0.47, -1, np.nan)\n",
        "        df[\"position\"] = np.where(df.proba > 0.53, 1, df.position)\n",
        "        df[\"position\"] = df.position.ffill().fillna(0) # start with neutral position if no strong signal\n",
        "        #***********************************************************************\n",
        "        \n",
        "        self.data = df.copy()\n",
        "    \n",
        "    def execute_trades(self):\n",
        "        if self.data[\"position\"].iloc[-1] == 1:\n",
        "            if self.position == 0:\n",
        "                order = api.create_market_buy_order(self.instrument, self.units)\n",
        "                self.report_trade(order, \"GOING LONG\")  \n",
        "            elif self.position == -1:\n",
        "                order = api.create_market_buy_order(self.instrument, self.units * 2)\n",
        "                self.report_trade(order, \"GOING LONG\")  \n",
        "            self.position = 1\n",
        "        elif self.data[\"position\"].iloc[-1] == -1: \n",
        "            if self.position == 0:\n",
        "                order = api.create_market_sell_order(self.instrument, self.units)\n",
        "                self.report_trade(order, \"GOING SHORT\")  \n",
        "            elif self.position == 1:\n",
        "                order = api.create_market_sell_order(self.instrument, self.units * 2)\n",
        "                self.report_trade(order, \"GOING SHORT\")  \n",
        "            self.position = -1\n",
        "        elif self.data[\"position\"].iloc[-1] == 0: \n",
        "            if self.position == -1:\n",
        "                order = api.create_market_buy_order(self.instrument, self.units)\n",
        "                self.report_trade(order, \"GOING NEUTRAL\") \n",
        "            elif self.position == 1:\n",
        "                order = api.create_market_sell_order(self.instrument, self.units)\n",
        "                self.report_trade(order, \"GOING NEUTRAL\")  \n",
        "            self.position = 0\n",
        "\n",
        "    def report_trade(self, order, going):\n",
        "        time = order.get_time()\n",
        "        units = api.get_open_positions().amountK.iloc[-1]\n",
        "        price = api.get_open_positions().open.iloc[-1]\n",
        "        unreal_pl = api.get_open_positions().grossPL.sum()\n",
        "        print(\"\\n\" + 100* \"-\")\n",
        "        print(\"{} | {}\".format(time, going))\n",
        "        print(\"{} | units = {} | price = {} | Unreal. P&L = {}\".format(time, units, price, unreal_pl))\n",
        "        print(100 * \"-\" + \"\\n\")"
      ]
    },
    {
      "cell_type": "code",
      "execution_count": null,
      "metadata": {
        "id": "iJsyNOabUVLz"
      },
      "outputs": [],
      "source": [
        "trader = DNNTrader(\"EUR/GBP\", bar_length = \"5min\", \n",
        "                   window = 50, lags = 20, model = model, mu = mu, std = std, units = 100)"
      ]
    },
    {
      "cell_type": "code",
      "execution_count": null,
      "metadata": {
        "scrolled": true,
        "id": "cOQIPXuPUVLz",
        "colab": {
          "base_uri": "https://localhost:8080/",
          "height": 321
        },
        "outputId": "b00b69a2-2b9d-437d-d311-3afe9bb39ae3"
      },
      "outputs": [
        {
          "output_type": "error",
          "ename": "KeyboardInterrupt",
          "evalue": "ignored",
          "traceback": [
            "\u001b[0;31m---------------------------------------------------------------------------\u001b[0m",
            "\u001b[0;31mKeyboardInterrupt\u001b[0m                         Traceback (most recent call last)",
            "\u001b[0;32m<ipython-input-245-df65b32740b2>\u001b[0m in \u001b[0;36m<module>\u001b[0;34m\u001b[0m\n\u001b[0;32m----> 1\u001b[0;31m \u001b[0mtrader\u001b[0m\u001b[0;34m.\u001b[0m\u001b[0mget_most_recent\u001b[0m\u001b[0;34m(\u001b[0m\u001b[0;34m)\u001b[0m\u001b[0;34m\u001b[0m\u001b[0;34m\u001b[0m\u001b[0m\n\u001b[0m\u001b[1;32m      2\u001b[0m \u001b[0mapi\u001b[0m\u001b[0;34m.\u001b[0m\u001b[0msubscribe_market_data\u001b[0m\u001b[0;34m(\u001b[0m\u001b[0mtrader\u001b[0m\u001b[0;34m.\u001b[0m\u001b[0minstrument\u001b[0m\u001b[0;34m,\u001b[0m \u001b[0;34m(\u001b[0m\u001b[0mtrader\u001b[0m\u001b[0;34m.\u001b[0m\u001b[0mget_tick_data\u001b[0m\u001b[0;34m,\u001b[0m \u001b[0;34m)\u001b[0m\u001b[0;34m)\u001b[0m\u001b[0;34m\u001b[0m\u001b[0;34m\u001b[0m\u001b[0m\n",
            "\u001b[0;32m<ipython-input-243-5d9995786311>\u001b[0m in \u001b[0;36mget_most_recent\u001b[0;34m(self, period, number)\u001b[0m\n\u001b[1;32m     22\u001b[0m     \u001b[0;32mdef\u001b[0m \u001b[0mget_most_recent\u001b[0m\u001b[0;34m(\u001b[0m\u001b[0mself\u001b[0m\u001b[0;34m,\u001b[0m \u001b[0mperiod\u001b[0m \u001b[0;34m=\u001b[0m \u001b[0;34m\"m1\"\u001b[0m\u001b[0;34m,\u001b[0m \u001b[0mnumber\u001b[0m \u001b[0;34m=\u001b[0m \u001b[0;36m10000\u001b[0m\u001b[0;34m)\u001b[0m\u001b[0;34m:\u001b[0m\u001b[0;34m\u001b[0m\u001b[0;34m\u001b[0m\u001b[0m\n\u001b[1;32m     23\u001b[0m         \u001b[0;32mwhile\u001b[0m \u001b[0;32mTrue\u001b[0m\u001b[0;34m:\u001b[0m\u001b[0;34m\u001b[0m\u001b[0;34m\u001b[0m\u001b[0m\n\u001b[0;32m---> 24\u001b[0;31m             \u001b[0mtime\u001b[0m\u001b[0;34m.\u001b[0m\u001b[0msleep\u001b[0m\u001b[0;34m(\u001b[0m\u001b[0;36m5\u001b[0m\u001b[0;34m)\u001b[0m\u001b[0;34m\u001b[0m\u001b[0;34m\u001b[0m\u001b[0m\n\u001b[0m\u001b[1;32m     25\u001b[0m             \u001b[0mdf\u001b[0m \u001b[0;34m=\u001b[0m \u001b[0mapi\u001b[0m\u001b[0;34m.\u001b[0m\u001b[0mget_candles\u001b[0m\u001b[0;34m(\u001b[0m\u001b[0mself\u001b[0m\u001b[0;34m.\u001b[0m\u001b[0minstrument\u001b[0m\u001b[0;34m,\u001b[0m \u001b[0mnumber\u001b[0m \u001b[0;34m=\u001b[0m \u001b[0mnumber\u001b[0m\u001b[0;34m,\u001b[0m \u001b[0mperiod\u001b[0m \u001b[0;34m=\u001b[0m \u001b[0mperiod\u001b[0m\u001b[0;34m,\u001b[0m \u001b[0mcolumns\u001b[0m \u001b[0;34m=\u001b[0m \u001b[0;34m[\u001b[0m\u001b[0;34m\"bidclose\"\u001b[0m\u001b[0;34m,\u001b[0m \u001b[0;34m\"askclose\"\u001b[0m\u001b[0;34m]\u001b[0m\u001b[0;34m)\u001b[0m\u001b[0;34m\u001b[0m\u001b[0;34m\u001b[0m\u001b[0m\n\u001b[1;32m     26\u001b[0m             \u001b[0mdf\u001b[0m\u001b[0;34m[\u001b[0m\u001b[0mself\u001b[0m\u001b[0;34m.\u001b[0m\u001b[0minstrument\u001b[0m\u001b[0;34m]\u001b[0m \u001b[0;34m=\u001b[0m \u001b[0;34m(\u001b[0m\u001b[0mdf\u001b[0m\u001b[0;34m.\u001b[0m\u001b[0mbidclose\u001b[0m \u001b[0;34m+\u001b[0m \u001b[0mdf\u001b[0m\u001b[0;34m.\u001b[0m\u001b[0maskclose\u001b[0m\u001b[0;34m)\u001b[0m \u001b[0;34m/\u001b[0m \u001b[0;36m2\u001b[0m\u001b[0;34m\u001b[0m\u001b[0;34m\u001b[0m\u001b[0m\n",
            "\u001b[0;31mKeyboardInterrupt\u001b[0m: "
          ]
        }
      ],
      "source": [
        "trader.get_most_recent()\n",
        "api.subscribe_market_data(trader.instrument, (trader.get_tick_data, ))"
      ]
    },
    {
      "cell_type": "code",
      "execution_count": null,
      "metadata": {
        "id": "BEeqJeLHUVLz"
      },
      "outputs": [],
      "source": [
        "api.unsubscribe_market_data(trader.instrument)\n",
        "if len(api.get_open_positions()) != 0: # if we have final open position(s) (netting and hedging)\n",
        "    api.close_all_for_symbol(trader.instrument)\n",
        "    print(2*\"\\n\" + \"{} | GOING NEUTRAL\".format(str(datetime.utcnow())) + \"\\n\")\n",
        "    time.sleep(20)\n",
        "    print(api.get_closed_positions_summary()[col])\n",
        "    trader.position = 0"
      ]
    },
    {
      "cell_type": "code",
      "execution_count": null,
      "metadata": {
        "id": "7RlnvoAQUVLz"
      },
      "outputs": [],
      "source": [
        "trader.data"
      ]
    },
    {
      "cell_type": "code",
      "execution_count": null,
      "metadata": {
        "id": "0k7kOsiLUVLz"
      },
      "outputs": [],
      "source": [
        "api.close()"
      ]
    },
    {
      "cell_type": "code",
      "execution_count": null,
      "metadata": {
        "id": "6BKwgB-KUVLz"
      },
      "outputs": [],
      "source": []
    }
  ],
  "metadata": {
    "kernelspec": {
      "display_name": "Python 3",
      "language": "python",
      "name": "python3"
    },
    "language_info": {
      "codemirror_mode": {
        "name": "ipython",
        "version": 3
      },
      "file_extension": ".py",
      "mimetype": "text/x-python",
      "name": "python",
      "nbconvert_exporter": "python",
      "pygments_lexer": "ipython3",
      "version": "3.8.5"
    },
    "colab": {
      "provenance": []
    }
  },
  "nbformat": 4,
  "nbformat_minor": 0
}